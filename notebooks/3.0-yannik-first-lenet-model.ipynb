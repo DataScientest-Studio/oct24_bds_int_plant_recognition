{
 "cells": [
  {
   "cell_type": "markdown",
   "metadata": {},
   "source": [
    "Installing Kagglehub and downloading dataset via Kaggle API"
   ]
  },
  {
   "cell_type": "code",
   "execution_count": 1,
   "metadata": {},
   "outputs": [
    {
     "name": "stdout",
     "output_type": "stream",
     "text": [
      "Requirement already satisfied: kagglehub in /Users/yannik/anaconda3/envs/keras_env/lib/python3.8/site-packages (0.2.9)\n",
      "Requirement already satisfied: packaging in /Users/yannik/anaconda3/envs/keras_env/lib/python3.8/site-packages (from kagglehub) (24.2)\n",
      "Requirement already satisfied: requests in /Users/yannik/anaconda3/envs/keras_env/lib/python3.8/site-packages (from kagglehub) (2.32.3)\n",
      "Requirement already satisfied: tqdm in /Users/yannik/anaconda3/envs/keras_env/lib/python3.8/site-packages (from kagglehub) (4.67.1)\n",
      "Requirement already satisfied: charset-normalizer<4,>=2 in /Users/yannik/anaconda3/envs/keras_env/lib/python3.8/site-packages (from requests->kagglehub) (3.4.0)\n",
      "Requirement already satisfied: idna<4,>=2.5 in /Users/yannik/anaconda3/envs/keras_env/lib/python3.8/site-packages (from requests->kagglehub) (3.10)\n",
      "Requirement already satisfied: urllib3<3,>=1.21.1 in /Users/yannik/anaconda3/envs/keras_env/lib/python3.8/site-packages (from requests->kagglehub) (2.2.3)\n",
      "Requirement already satisfied: certifi>=2017.4.17 in /Users/yannik/anaconda3/envs/keras_env/lib/python3.8/site-packages (from requests->kagglehub) (2024.8.30)\n"
     ]
    },
    {
     "name": "stderr",
     "output_type": "stream",
     "text": [
      "/Users/yannik/anaconda3/envs/keras_env/lib/python3.8/site-packages/tqdm/auto.py:21: TqdmWarning: IProgress not found. Please update jupyter and ipywidgets. See https://ipywidgets.readthedocs.io/en/stable/user_install.html\n",
      "  from .autonotebook import tqdm as notebook_tqdm\n"
     ]
    },
    {
     "name": "stdout",
     "output_type": "stream",
     "text": [
      "Warning: Looks like you're using an outdated `kagglehub` version, please consider updating (latest version: 0.3.4)\n",
      "Path to dataset files: /Users/yannik/.cache/kagglehub/datasets/vipoooool/new-plant-diseases-dataset/versions/2\n"
     ]
    }
   ],
   "source": [
    "!pip install kagglehub\n",
    "import kagglehub\n",
    "\n",
    "# Download latest version\n",
    "path = kagglehub.dataset_download(\"vipoooool/new-plant-diseases-dataset\")\n",
    "\n",
    "print(\"Path to dataset files:\", path)"
   ]
  },
  {
   "cell_type": "markdown",
   "metadata": {},
   "source": [
    "Defining the paths to training, validation, and testing folder. Counting the number of folders and files."
   ]
  },
  {
   "cell_type": "code",
   "execution_count": 2,
   "metadata": {},
   "outputs": [
    {
     "name": "stdout",
     "output_type": "stream",
     "text": [
      "Number of folders in train_path: 38\n",
      "Number of folders in valid_path: 38\n",
      "Number of files in test_path: 33\n",
      "-------------------------------------------------------------------\n",
      "Files in each folder (train_path):\n",
      "Strawberry___healthy: 1824 files\n",
      "Grape___Black_rot: 1888 files\n",
      "Potato___Early_blight: 1939 files\n",
      "Blueberry___healthy: 1816 files\n",
      "Corn_(maize)___healthy: 1859 files\n",
      "Tomato___Target_Spot: 1827 files\n",
      "Peach___healthy: 1728 files\n",
      "Potato___Late_blight: 1939 files\n",
      "Tomato___Late_blight: 1851 files\n",
      "Tomato___Tomato_mosaic_virus: 1790 files\n",
      "Pepper,_bell___healthy: 1988 files\n",
      "Orange___Haunglongbing_(Citrus_greening): 2010 files\n",
      "Tomato___Leaf_Mold: 1882 files\n",
      "Grape___Leaf_blight_(Isariopsis_Leaf_Spot): 1722 files\n",
      "Cherry_(including_sour)___Powdery_mildew: 1683 files\n",
      "Apple___Cedar_apple_rust: 1760 files\n",
      "Tomato___Bacterial_spot: 1702 files\n",
      "Grape___healthy: 1692 files\n",
      "Tomato___Early_blight: 1920 files\n",
      "Corn_(maize)___Common_rust_: 1907 files\n",
      "Grape___Esca_(Black_Measles): 1920 files\n",
      "Raspberry___healthy: 1781 files\n",
      "Tomato___healthy: 1926 files\n",
      "Cherry_(including_sour)___healthy: 1826 files\n",
      "Tomato___Tomato_Yellow_Leaf_Curl_Virus: 1961 files\n",
      "Apple___Apple_scab: 2016 files\n",
      "Corn_(maize)___Northern_Leaf_Blight: 1908 files\n",
      "Tomato___Spider_mites Two-spotted_spider_mite: 1741 files\n",
      "Peach___Bacterial_spot: 1838 files\n",
      "Pepper,_bell___Bacterial_spot: 1913 files\n",
      "Tomato___Septoria_leaf_spot: 1745 files\n",
      "Squash___Powdery_mildew: 1736 files\n",
      "Corn_(maize)___Cercospora_leaf_spot Gray_leaf_spot: 1642 files\n",
      "Apple___Black_rot: 1987 files\n",
      "Apple___healthy: 2008 files\n",
      "Strawberry___Leaf_scorch: 1774 files\n",
      "Potato___healthy: 1824 files\n",
      "Soybean___healthy: 2022 files\n",
      "\n",
      "Files in each folder (valid_path):\n",
      "Strawberry___healthy: 456 files\n",
      "Grape___Black_rot: 472 files\n",
      "Potato___Early_blight: 485 files\n",
      "Blueberry___healthy: 454 files\n",
      "Corn_(maize)___healthy: 465 files\n",
      "Tomato___Target_Spot: 457 files\n",
      "Peach___healthy: 432 files\n",
      "Potato___Late_blight: 485 files\n",
      "Tomato___Late_blight: 463 files\n",
      "Tomato___Tomato_mosaic_virus: 448 files\n",
      "Pepper,_bell___healthy: 497 files\n",
      "Orange___Haunglongbing_(Citrus_greening): 503 files\n",
      "Tomato___Leaf_Mold: 470 files\n",
      "Grape___Leaf_blight_(Isariopsis_Leaf_Spot): 430 files\n",
      "Cherry_(including_sour)___Powdery_mildew: 421 files\n",
      "Apple___Cedar_apple_rust: 440 files\n",
      "Tomato___Bacterial_spot: 425 files\n",
      "Grape___healthy: 423 files\n",
      "Tomato___Early_blight: 480 files\n",
      "Corn_(maize)___Common_rust_: 477 files\n",
      "Grape___Esca_(Black_Measles): 480 files\n",
      "Raspberry___healthy: 445 files\n",
      "Tomato___healthy: 481 files\n",
      "Cherry_(including_sour)___healthy: 456 files\n",
      "Tomato___Tomato_Yellow_Leaf_Curl_Virus: 490 files\n",
      "Apple___Apple_scab: 504 files\n",
      "Corn_(maize)___Northern_Leaf_Blight: 477 files\n",
      "Tomato___Spider_mites Two-spotted_spider_mite: 435 files\n",
      "Peach___Bacterial_spot: 459 files\n",
      "Pepper,_bell___Bacterial_spot: 478 files\n",
      "Tomato___Septoria_leaf_spot: 436 files\n",
      "Squash___Powdery_mildew: 434 files\n",
      "Corn_(maize)___Cercospora_leaf_spot Gray_leaf_spot: 410 files\n",
      "Apple___Black_rot: 497 files\n",
      "Apple___healthy: 502 files\n",
      "Strawberry___Leaf_scorch: 444 files\n",
      "Potato___healthy: 456 files\n",
      "Soybean___healthy: 505 files\n"
     ]
    }
   ],
   "source": [
    "import os\n",
    "\n",
    "# Define the dataset path\n",
    "root_folder = \"/Users/yannik/.cache/kagglehub/datasets/vipoooool/new-plant-diseases-dataset/versions/2\"\n",
    "\n",
    "data_dir = os.path.join(root_folder, 'new plant diseases dataset(augmented)/New Plant Diseases Dataset(Augmented)/')\n",
    "\n",
    "test_path = os.path.join(root_folder, 'test/test')\n",
    "train_path = os.path.join(data_dir, 'train')\n",
    "valid_path = os.path.join(data_dir, 'valid')\n",
    "\n",
    "# Count the number of folders in a directory\n",
    "def count_folders(path):\n",
    "    if os.path.exists(path):\n",
    "        return len([d for d in os.listdir(path) if os.path.isdir(os.path.join(path, d))])\n",
    "    else:\n",
    "        print(f\"Path does not exist: {path}\")\n",
    "        return 0\n",
    "\n",
    "# Count the number of files in a directory\n",
    "def count_files(path):\n",
    "    if os.path.exists(path):\n",
    "        return len([f for f in os.listdir(path) if os.path.isfile(os.path.join(path, f))])\n",
    "    else:\n",
    "        print(f\"Path does not exist: {path}\")\n",
    "        return 0\n",
    "\n",
    "# Function to count files in each folder of a given directory\n",
    "def count_files_in_folders(path):\n",
    "    if not os.path.exists(path):\n",
    "        print(f\"Path does not exist: {path}\")\n",
    "        return {}\n",
    "\n",
    "    folder_file_counts = {}\n",
    "    for folder in os.listdir(path):\n",
    "        folder_path = os.path.join(path, folder)\n",
    "        if os.path.isdir(folder_path):\n",
    "            file_count = len([f for f in os.listdir(folder_path) if os.path.isfile(os.path.join(folder_path, f))])\n",
    "            folder_file_counts[folder] = file_count\n",
    "\n",
    "    return folder_file_counts\n",
    "\n",
    "# Print counts\n",
    "print(f\"Number of folders in train_path: {count_folders(train_path)}\")\n",
    "print(f\"Number of folders in valid_path: {count_folders(valid_path)}\")\n",
    "print(f\"Number of files in test_path: {count_files(test_path)}\")\n",
    "print('-------------------------------------------------------------------')\n",
    "# Count files in each folder\n",
    "train_folder_counts = count_files_in_folders(train_path)\n",
    "valid_folder_counts = count_files_in_folders(valid_path)\n",
    "# Display results\n",
    "print(\"Files in each folder (train_path):\")\n",
    "for folder, count in train_folder_counts.items():\n",
    "    print(f\"{folder}: {count} files\")\n",
    "\n",
    "print(\"\\nFiles in each folder (valid_path):\")\n",
    "for folder, count in valid_folder_counts.items():\n",
    "    print(f\"{folder}: {count} files\")"
   ]
  },
  {
   "cell_type": "code",
   "execution_count": 5,
   "metadata": {},
   "outputs": [
    {
     "name": "stdout",
     "output_type": "stream",
     "text": [
      "Collecting pandas\n",
      "  Downloading pandas-2.0.3-cp38-cp38-macosx_11_0_arm64.whl.metadata (18 kB)\n",
      "Requirement already satisfied: numpy in /Users/yannik/anaconda3/envs/keras_env/lib/python3.8/site-packages (1.23.2)\n",
      "Collecting matplotlib\n",
      "  Downloading matplotlib-3.7.5-cp38-cp38-macosx_11_0_arm64.whl.metadata (5.7 kB)\n",
      "Collecting seaborn\n",
      "  Downloading seaborn-0.13.2-py3-none-any.whl.metadata (5.4 kB)\n",
      "Collecting tensorflow\n",
      "  Downloading tensorflow-2.13.1-cp38-cp38-macosx_12_0_arm64.whl.metadata (2.6 kB)\n",
      "Requirement already satisfied: python-dateutil>=2.8.2 in /Users/yannik/anaconda3/envs/keras_env/lib/python3.8/site-packages (from pandas) (2.8.2)\n",
      "Collecting pytz>=2020.1 (from pandas)\n",
      "  Downloading pytz-2024.2-py2.py3-none-any.whl.metadata (22 kB)\n",
      "Collecting tzdata>=2022.1 (from pandas)\n",
      "  Downloading tzdata-2024.2-py2.py3-none-any.whl.metadata (1.4 kB)\n",
      "Collecting contourpy>=1.0.1 (from matplotlib)\n",
      "  Downloading contourpy-1.1.1-cp38-cp38-macosx_11_0_arm64.whl.metadata (5.9 kB)\n",
      "Collecting cycler>=0.10 (from matplotlib)\n",
      "  Using cached cycler-0.12.1-py3-none-any.whl.metadata (3.8 kB)\n",
      "Collecting fonttools>=4.22.0 (from matplotlib)\n",
      "  Downloading fonttools-4.55.1-cp38-cp38-macosx_10_9_universal2.whl.metadata (164 kB)\n",
      "Collecting kiwisolver>=1.0.1 (from matplotlib)\n",
      "  Downloading kiwisolver-1.4.7-cp38-cp38-macosx_11_0_arm64.whl.metadata (6.3 kB)\n",
      "Requirement already satisfied: packaging>=20.0 in /Users/yannik/anaconda3/envs/keras_env/lib/python3.8/site-packages (from matplotlib) (24.2)\n",
      "Collecting pillow>=6.2.0 (from matplotlib)\n",
      "  Downloading pillow-10.4.0-cp38-cp38-macosx_11_0_arm64.whl.metadata (9.2 kB)\n",
      "Collecting pyparsing>=2.3.1 (from matplotlib)\n",
      "  Downloading pyparsing-3.1.4-py3-none-any.whl.metadata (5.1 kB)\n",
      "Collecting importlib-resources>=3.2.0 (from matplotlib)\n",
      "  Downloading importlib_resources-6.4.5-py3-none-any.whl.metadata (4.0 kB)\n",
      "INFO: pip is looking at multiple versions of tensorflow to determine which version is compatible with other requirements. This could take a while.\n",
      "Collecting tensorflow\n",
      "  Downloading tensorflow-2.13.0-cp38-cp38-macosx_12_0_arm64.whl.metadata (2.6 kB)\n",
      "Requirement already satisfied: tensorflow-macos==2.13.0 in /Users/yannik/anaconda3/envs/keras_env/lib/python3.8/site-packages (from tensorflow) (2.13.0)\n",
      "Requirement already satisfied: absl-py>=1.0.0 in /Users/yannik/anaconda3/envs/keras_env/lib/python3.8/site-packages (from tensorflow-macos==2.13.0->tensorflow) (2.1.0)\n",
      "Requirement already satisfied: astunparse>=1.6.0 in /Users/yannik/anaconda3/envs/keras_env/lib/python3.8/site-packages (from tensorflow-macos==2.13.0->tensorflow) (1.6.3)\n",
      "Requirement already satisfied: flatbuffers>=23.1.21 in /Users/yannik/anaconda3/envs/keras_env/lib/python3.8/site-packages (from tensorflow-macos==2.13.0->tensorflow) (24.3.25)\n",
      "Requirement already satisfied: gast<=0.4.0,>=0.2.1 in /Users/yannik/anaconda3/envs/keras_env/lib/python3.8/site-packages (from tensorflow-macos==2.13.0->tensorflow) (0.4.0)\n",
      "Requirement already satisfied: google-pasta>=0.1.1 in /Users/yannik/anaconda3/envs/keras_env/lib/python3.8/site-packages (from tensorflow-macos==2.13.0->tensorflow) (0.2.0)\n",
      "Requirement already satisfied: h5py>=2.9.0 in /Users/yannik/.local/lib/python3.8/site-packages (from tensorflow-macos==2.13.0->tensorflow) (3.9.0)\n",
      "Requirement already satisfied: libclang>=13.0.0 in /Users/yannik/anaconda3/envs/keras_env/lib/python3.8/site-packages (from tensorflow-macos==2.13.0->tensorflow) (18.1.1)\n",
      "Requirement already satisfied: opt-einsum>=2.3.2 in /Users/yannik/anaconda3/envs/keras_env/lib/python3.8/site-packages (from tensorflow-macos==2.13.0->tensorflow) (3.4.0)\n",
      "Requirement already satisfied: protobuf!=4.21.0,!=4.21.1,!=4.21.2,!=4.21.3,!=4.21.4,!=4.21.5,<5.0.0dev,>=3.20.3 in /Users/yannik/anaconda3/envs/keras_env/lib/python3.8/site-packages (from tensorflow-macos==2.13.0->tensorflow) (4.25.5)\n",
      "Requirement already satisfied: setuptools in /Users/yannik/anaconda3/envs/keras_env/lib/python3.8/site-packages (from tensorflow-macos==2.13.0->tensorflow) (70.3.0)\n",
      "Requirement already satisfied: six>=1.12.0 in /Users/yannik/anaconda3/envs/keras_env/lib/python3.8/site-packages (from tensorflow-macos==2.13.0->tensorflow) (1.16.0)\n",
      "Requirement already satisfied: termcolor>=1.1.0 in /Users/yannik/anaconda3/envs/keras_env/lib/python3.8/site-packages (from tensorflow-macos==2.13.0->tensorflow) (2.4.0)\n",
      "Collecting typing-extensions<4.6.0,>=3.6.6 (from tensorflow-macos==2.13.0->tensorflow)\n",
      "  Using cached typing_extensions-4.5.0-py3-none-any.whl.metadata (8.5 kB)\n",
      "Requirement already satisfied: wrapt>=1.11.0 in /Users/yannik/anaconda3/envs/keras_env/lib/python3.8/site-packages (from tensorflow-macos==2.13.0->tensorflow) (1.17.0)\n",
      "Requirement already satisfied: grpcio<2.0,>=1.24.3 in /Users/yannik/anaconda3/envs/keras_env/lib/python3.8/site-packages (from tensorflow-macos==2.13.0->tensorflow) (1.68.1)\n",
      "Requirement already satisfied: tensorboard<2.14,>=2.13 in /Users/yannik/anaconda3/envs/keras_env/lib/python3.8/site-packages (from tensorflow-macos==2.13.0->tensorflow) (2.13.0)\n",
      "Requirement already satisfied: tensorflow-estimator<2.14,>=2.13.0 in /Users/yannik/anaconda3/envs/keras_env/lib/python3.8/site-packages (from tensorflow-macos==2.13.0->tensorflow) (2.13.0)\n",
      "Requirement already satisfied: keras<2.14,>=2.13.1 in /Users/yannik/anaconda3/envs/keras_env/lib/python3.8/site-packages (from tensorflow-macos==2.13.0->tensorflow) (2.13.1)\n",
      "Requirement already satisfied: zipp>=3.1.0 in /Users/yannik/anaconda3/envs/keras_env/lib/python3.8/site-packages (from importlib-resources>=3.2.0->matplotlib) (3.20.2)\n",
      "Requirement already satisfied: wheel<1.0,>=0.23.0 in /Users/yannik/anaconda3/envs/keras_env/lib/python3.8/site-packages (from astunparse>=1.6.0->tensorflow-macos==2.13.0->tensorflow) (0.45.1)\n",
      "Requirement already satisfied: google-auth<3,>=1.6.3 in /Users/yannik/anaconda3/envs/keras_env/lib/python3.8/site-packages (from tensorboard<2.14,>=2.13->tensorflow-macos==2.13.0->tensorflow) (2.36.0)\n",
      "Requirement already satisfied: google-auth-oauthlib<1.1,>=0.5 in /Users/yannik/anaconda3/envs/keras_env/lib/python3.8/site-packages (from tensorboard<2.14,>=2.13->tensorflow-macos==2.13.0->tensorflow) (1.0.0)\n",
      "Requirement already satisfied: markdown>=2.6.8 in /Users/yannik/anaconda3/envs/keras_env/lib/python3.8/site-packages (from tensorboard<2.14,>=2.13->tensorflow-macos==2.13.0->tensorflow) (3.7)\n",
      "Requirement already satisfied: requests<3,>=2.21.0 in /Users/yannik/anaconda3/envs/keras_env/lib/python3.8/site-packages (from tensorboard<2.14,>=2.13->tensorflow-macos==2.13.0->tensorflow) (2.32.3)\n",
      "Requirement already satisfied: tensorboard-data-server<0.8.0,>=0.7.0 in /Users/yannik/anaconda3/envs/keras_env/lib/python3.8/site-packages (from tensorboard<2.14,>=2.13->tensorflow-macos==2.13.0->tensorflow) (0.7.2)\n",
      "Requirement already satisfied: werkzeug>=1.0.1 in /Users/yannik/anaconda3/envs/keras_env/lib/python3.8/site-packages (from tensorboard<2.14,>=2.13->tensorflow-macos==2.13.0->tensorflow) (3.0.6)\n",
      "Requirement already satisfied: cachetools<6.0,>=2.0.0 in /Users/yannik/anaconda3/envs/keras_env/lib/python3.8/site-packages (from google-auth<3,>=1.6.3->tensorboard<2.14,>=2.13->tensorflow-macos==2.13.0->tensorflow) (5.5.0)\n",
      "Requirement already satisfied: pyasn1-modules>=0.2.1 in /Users/yannik/anaconda3/envs/keras_env/lib/python3.8/site-packages (from google-auth<3,>=1.6.3->tensorboard<2.14,>=2.13->tensorflow-macos==2.13.0->tensorflow) (0.4.1)\n",
      "Requirement already satisfied: rsa<5,>=3.1.4 in /Users/yannik/anaconda3/envs/keras_env/lib/python3.8/site-packages (from google-auth<3,>=1.6.3->tensorboard<2.14,>=2.13->tensorflow-macos==2.13.0->tensorflow) (4.9)\n",
      "Requirement already satisfied: requests-oauthlib>=0.7.0 in /Users/yannik/anaconda3/envs/keras_env/lib/python3.8/site-packages (from google-auth-oauthlib<1.1,>=0.5->tensorboard<2.14,>=2.13->tensorflow-macos==2.13.0->tensorflow) (2.0.0)\n",
      "Requirement already satisfied: importlib-metadata>=4.4 in /Users/yannik/anaconda3/envs/keras_env/lib/python3.8/site-packages (from markdown>=2.6.8->tensorboard<2.14,>=2.13->tensorflow-macos==2.13.0->tensorflow) (8.5.0)\n",
      "Requirement already satisfied: charset-normalizer<4,>=2 in /Users/yannik/anaconda3/envs/keras_env/lib/python3.8/site-packages (from requests<3,>=2.21.0->tensorboard<2.14,>=2.13->tensorflow-macos==2.13.0->tensorflow) (3.4.0)\n",
      "Requirement already satisfied: idna<4,>=2.5 in /Users/yannik/anaconda3/envs/keras_env/lib/python3.8/site-packages (from requests<3,>=2.21.0->tensorboard<2.14,>=2.13->tensorflow-macos==2.13.0->tensorflow) (3.10)\n",
      "Requirement already satisfied: urllib3<3,>=1.21.1 in /Users/yannik/anaconda3/envs/keras_env/lib/python3.8/site-packages (from requests<3,>=2.21.0->tensorboard<2.14,>=2.13->tensorflow-macos==2.13.0->tensorflow) (2.2.3)\n",
      "Requirement already satisfied: certifi>=2017.4.17 in /Users/yannik/anaconda3/envs/keras_env/lib/python3.8/site-packages (from requests<3,>=2.21.0->tensorboard<2.14,>=2.13->tensorflow-macos==2.13.0->tensorflow) (2024.8.30)\n",
      "Requirement already satisfied: MarkupSafe>=2.1.1 in /Users/yannik/anaconda3/envs/keras_env/lib/python3.8/site-packages (from werkzeug>=1.0.1->tensorboard<2.14,>=2.13->tensorflow-macos==2.13.0->tensorflow) (2.1.5)\n",
      "Requirement already satisfied: pyasn1<0.7.0,>=0.4.6 in /Users/yannik/anaconda3/envs/keras_env/lib/python3.8/site-packages (from pyasn1-modules>=0.2.1->google-auth<3,>=1.6.3->tensorboard<2.14,>=2.13->tensorflow-macos==2.13.0->tensorflow) (0.6.1)\n",
      "Requirement already satisfied: oauthlib>=3.0.0 in /Users/yannik/anaconda3/envs/keras_env/lib/python3.8/site-packages (from requests-oauthlib>=0.7.0->google-auth-oauthlib<1.1,>=0.5->tensorboard<2.14,>=2.13->tensorflow-macos==2.13.0->tensorflow) (3.2.2)\n",
      "Downloading pandas-2.0.3-cp38-cp38-macosx_11_0_arm64.whl (10.7 MB)\n",
      "\u001b[2K   \u001b[90m━━━━━━━━━━━━━━━━━━━━━━━━━━━━━━━━━━━━━━━━\u001b[0m \u001b[32m10.7/10.7 MB\u001b[0m \u001b[31m3.1 MB/s\u001b[0m eta \u001b[36m0:00:00\u001b[0m00:01\u001b[0m0:01\u001b[0m\n",
      "\u001b[?25hDownloading matplotlib-3.7.5-cp38-cp38-macosx_11_0_arm64.whl (7.3 MB)\n",
      "\u001b[2K   \u001b[90m━━━━━━━━━━━━━━━━━━━━━━━━━━━━━━━━━━━━━━━━\u001b[0m \u001b[32m7.3/7.3 MB\u001b[0m \u001b[31m3.8 MB/s\u001b[0m eta \u001b[36m0:00:00\u001b[0ma \u001b[36m0:00:01\u001b[0m\n",
      "\u001b[?25hDownloading seaborn-0.13.2-py3-none-any.whl (294 kB)\n",
      "Downloading tensorflow-2.13.0-cp38-cp38-macosx_12_0_arm64.whl (1.9 kB)\n",
      "Downloading contourpy-1.1.1-cp38-cp38-macosx_11_0_arm64.whl (232 kB)\n",
      "Using cached cycler-0.12.1-py3-none-any.whl (8.3 kB)\n",
      "Downloading fonttools-4.55.1-cp38-cp38-macosx_10_9_universal2.whl (2.8 MB)\n",
      "\u001b[2K   \u001b[90m━━━━━━━━━━━━━━━━━━━━━━━━━━━━━━━━━━━━━━━━\u001b[0m \u001b[32m2.8/2.8 MB\u001b[0m \u001b[31m4.5 MB/s\u001b[0m eta \u001b[36m0:00:00\u001b[0ma \u001b[36m0:00:01\u001b[0m\n",
      "\u001b[?25hDownloading importlib_resources-6.4.5-py3-none-any.whl (36 kB)\n",
      "Downloading kiwisolver-1.4.7-cp38-cp38-macosx_11_0_arm64.whl (64 kB)\n",
      "Downloading pillow-10.4.0-cp38-cp38-macosx_11_0_arm64.whl (3.4 MB)\n",
      "\u001b[2K   \u001b[90m━━━━━━━━━━━━━━━━━━━━━━━━━━━━━━━━━━━━━━━━\u001b[0m \u001b[32m3.4/3.4 MB\u001b[0m \u001b[31m4.3 MB/s\u001b[0m eta \u001b[36m0:00:00\u001b[0ma \u001b[36m0:00:01\u001b[0m\n",
      "\u001b[?25hDownloading pyparsing-3.1.4-py3-none-any.whl (104 kB)\n",
      "Downloading pytz-2024.2-py2.py3-none-any.whl (508 kB)\n",
      "Downloading tzdata-2024.2-py2.py3-none-any.whl (346 kB)\n",
      "Using cached typing_extensions-4.5.0-py3-none-any.whl (27 kB)\n",
      "Installing collected packages: pytz, tzdata, typing-extensions, pyparsing, pillow, kiwisolver, importlib-resources, fonttools, cycler, contourpy, pandas, matplotlib, seaborn, tensorflow\n",
      "  Attempting uninstall: typing-extensions\n",
      "    Found existing installation: typing_extensions 4.12.2\n",
      "    Uninstalling typing_extensions-4.12.2:\n",
      "      Successfully uninstalled typing_extensions-4.12.2\n",
      "\u001b[31mERROR: pip's dependency resolver does not currently take into account all the packages that are installed. This behaviour is the source of the following dependency conflicts.\n",
      "clims 0.4.4 requires ase>=3.21.1, which is not installed.\n",
      "clims 0.4.4 requires pytest>=6.2.3, which is not installed.\n",
      "phonopy 2.20.0 requires PyYAML>=5.3, which is not installed.\u001b[0m\u001b[31m\n",
      "\u001b[0mSuccessfully installed contourpy-1.1.1 cycler-0.12.1 fonttools-4.55.1 importlib-resources-6.4.5 kiwisolver-1.4.7 matplotlib-3.7.5 pandas-2.0.3 pillow-10.4.0 pyparsing-3.1.4 pytz-2024.2 seaborn-0.13.2 tensorflow-2.13.0 typing-extensions-4.5.0 tzdata-2024.2\n"
     ]
    }
   ],
   "source": [
    "!pip install pandas numpy matplotlib seaborn tensorflow"
   ]
  },
  {
   "cell_type": "code",
   "execution_count": 3,
   "metadata": {},
   "outputs": [],
   "source": [
    "import pandas as pd\n",
    "import numpy as np\n",
    "import matplotlib.pyplot as plt\n",
    "import seaborn as sns\n",
    "\n",
    "from tensorflow.keras.preprocessing.image import ImageDataGenerator\n",
    "from tensorflow.keras.models import Sequential\n",
    "from tensorflow.keras.layers import Conv2D, MaxPooling2D, Flatten, Dense, Dropout"
   ]
  },
  {
   "cell_type": "code",
   "execution_count": 4,
   "metadata": {},
   "outputs": [
    {
     "name": "stdout",
     "output_type": "stream",
     "text": [
      "WARNING:tensorflow:From /var/folders/k_/2bfsctdx2z91qswg8rrs20lh0000gn/T/ipykernel_8453/2701214142.py:2: is_gpu_available (from tensorflow.python.framework.test_util) is deprecated and will be removed in a future version.\n",
      "Instructions for updating:\n",
      "Use `tf.config.list_physical_devices('GPU')` instead.\n",
      "GPU Available: True\n",
      "[PhysicalDevice(name='/physical_device:GPU:0', device_type='GPU')]\n"
     ]
    },
    {
     "name": "stderr",
     "output_type": "stream",
     "text": [
      "2024-12-04 16:25:02.719533: I metal_plugin/src/device/metal_device.cc:1154] Metal device set to: Apple M2\n",
      "2024-12-04 16:25:02.719555: I metal_plugin/src/device/metal_device.cc:296] systemMemory: 8.00 GB\n",
      "2024-12-04 16:25:02.719562: I metal_plugin/src/device/metal_device.cc:313] maxCacheSize: 2.67 GB\n",
      "2024-12-04 16:25:02.720127: I tensorflow/core/common_runtime/pluggable_device/pluggable_device_factory.cc:303] Could not identify NUMA node of platform GPU ID 0, defaulting to 0. Your kernel may not have been built with NUMA support.\n",
      "2024-12-04 16:25:02.720417: I tensorflow/core/common_runtime/pluggable_device/pluggable_device_factory.cc:269] Created TensorFlow device (/device:GPU:0 with 0 MB memory) -> physical PluggableDevice (device: 0, name: METAL, pci bus id: <undefined>)\n"
     ]
    }
   ],
   "source": [
    "import tensorflow as tf\n",
    "print(\"GPU Available:\", tf.test.is_gpu_available())\n",
    "print(tf.config.list_physical_devices('GPU'))"
   ]
  },
  {
   "cell_type": "code",
   "execution_count": 5,
   "metadata": {},
   "outputs": [
    {
     "name": "stdout",
     "output_type": "stream",
     "text": [
      "10.4.0\n",
      "1.10.1\n"
     ]
    }
   ],
   "source": [
    "import PIL\n",
    "import scipy\n",
    "\n",
    "print(PIL.__version__)\n",
    "print(scipy.__version__)"
   ]
  },
  {
   "cell_type": "code",
   "execution_count": 6,
   "metadata": {},
   "outputs": [
    {
     "name": "stdout",
     "output_type": "stream",
     "text": [
      "Found 70295 images belonging to 38 classes.\n",
      "Found 17572 images belonging to 38 classes.\n"
     ]
    },
    {
     "name": "stderr",
     "output_type": "stream",
     "text": [
      "2024-12-04 16:25:12.131921: I tensorflow/core/common_runtime/pluggable_device/pluggable_device_factory.cc:303] Could not identify NUMA node of platform GPU ID 0, defaulting to 0. Your kernel may not have been built with NUMA support.\n",
      "2024-12-04 16:25:12.131953: I tensorflow/core/common_runtime/pluggable_device/pluggable_device_factory.cc:269] Created TensorFlow device (/job:localhost/replica:0/task:0/device:GPU:0 with 0 MB memory) -> physical PluggableDevice (device: 0, name: METAL, pci bus id: <undefined>)\n"
     ]
    },
    {
     "name": "stdout",
     "output_type": "stream",
     "text": [
      "Epoch 1/20\n"
     ]
    },
    {
     "name": "stderr",
     "output_type": "stream",
     "text": [
      "2024-12-04 16:25:12.777027: I tensorflow/core/grappler/optimizers/custom_graph_optimizer_registry.cc:114] Plugin optimizer for device_type GPU is enabled.\n"
     ]
    },
    {
     "name": "stdout",
     "output_type": "stream",
     "text": [
      "2196/2196 [==============================] - ETA: 0s - loss: 2.8029 - accuracy: 0.5221"
     ]
    },
    {
     "name": "stderr",
     "output_type": "stream",
     "text": [
      "2024-12-04 16:33:39.727968: I tensorflow/core/grappler/optimizers/custom_graph_optimizer_registry.cc:114] Plugin optimizer for device_type GPU is enabled.\n"
     ]
    },
    {
     "name": "stdout",
     "output_type": "stream",
     "text": [
      "2196/2196 [==============================] - 552s 250ms/step - loss: 2.8029 - accuracy: 0.5221 - val_loss: 5.2035 - val_accuracy: 0.6523\n",
      "Epoch 2/20\n",
      "2196/2196 [==============================] - 610s 278ms/step - loss: 41.3363 - accuracy: 0.6467 - val_loss: 65.2788 - val_accuracy: 0.7595\n",
      "Epoch 3/20\n",
      "2196/2196 [==============================] - 672s 306ms/step - loss: 284.3245 - accuracy: 0.7388 - val_loss: 326.8709 - val_accuracy: 0.8148\n",
      "Epoch 4/20\n",
      "2196/2196 [==============================] - 700s 319ms/step - loss: 1331.1671 - accuracy: 0.7788 - val_loss: 1286.6937 - val_accuracy: 0.8439\n",
      "Epoch 5/20\n",
      "2196/2196 [==============================] - 702s 319ms/step - loss: 3279.4695 - accuracy: 0.8144 - val_loss: 2715.9570 - val_accuracy: 0.8692\n",
      "Epoch 6/20\n",
      "2196/2196 [==============================] - 720s 328ms/step - loss: 7451.3101 - accuracy: 0.8275 - val_loss: 6738.3057 - val_accuracy: 0.8682\n",
      "Epoch 7/20\n",
      "2196/2196 [==============================] - 707s 322ms/step - loss: 14052.9854 - accuracy: 0.8406 - val_loss: 19072.3242 - val_accuracy: 0.8371\n",
      "Epoch 8/20\n",
      "2196/2196 [==============================] - 739s 336ms/step - loss: 22944.2402 - accuracy: 0.8519 - val_loss: 18703.4980 - val_accuracy: 0.8881\n",
      "Epoch 9/20\n",
      "2196/2196 [==============================] - 704s 321ms/step - loss: 35263.1719 - accuracy: 0.8604 - val_loss: 32576.2305 - val_accuracy: 0.8737\n",
      "Epoch 10/20\n",
      "2196/2196 [==============================] - 779s 354ms/step - loss: 51456.9805 - accuracy: 0.8638 - val_loss: 46183.0859 - val_accuracy: 0.8896\n",
      "Epoch 11/20\n",
      "2196/2196 [==============================] - 734s 334ms/step - loss: 71776.9219 - accuracy: 0.8715 - val_loss: 75940.2656 - val_accuracy: 0.8818\n",
      "Epoch 12/20\n",
      "2196/2196 [==============================] - 730s 332ms/step - loss: 99882.5000 - accuracy: 0.8736 - val_loss: 94728.9766 - val_accuracy: 0.8907\n",
      "Epoch 13/20\n",
      "2196/2196 [==============================] - 683s 311ms/step - loss: 129777.8750 - accuracy: 0.8794 - val_loss: 127059.1484 - val_accuracy: 0.8972\n",
      "Epoch 14/20\n",
      "2196/2196 [==============================] - 706s 321ms/step - loss: 176815.5625 - accuracy: 0.8790 - val_loss: 202592.6719 - val_accuracy: 0.8801\n",
      "Epoch 15/20\n",
      "2196/2196 [==============================] - 679s 309ms/step - loss: 230265.1875 - accuracy: 0.8809 - val_loss: 316437.7812 - val_accuracy: 0.8680\n",
      "Epoch 16/20\n",
      "2196/2196 [==============================] - 700s 319ms/step - loss: 287346.6562 - accuracy: 0.8844 - val_loss: 302811.0000 - val_accuracy: 0.8913\n",
      "Epoch 17/20\n",
      "2196/2196 [==============================] - 677s 308ms/step - loss: 368142.3438 - accuracy: 0.8847 - val_loss: 407275.0312 - val_accuracy: 0.8834\n",
      "Epoch 18/20\n",
      "2196/2196 [==============================] - 684s 312ms/step - loss: 420392.7812 - accuracy: 0.8885 - val_loss: 444026.9688 - val_accuracy: 0.8949\n",
      "Epoch 19/20\n",
      "2196/2196 [==============================] - 682s 311ms/step - loss: 560923.5625 - accuracy: 0.8877 - val_loss: 595186.6875 - val_accuracy: 0.8944\n",
      "Epoch 20/20\n",
      "2196/2196 [==============================] - 661s 301ms/step - loss: 689794.6875 - accuracy: 0.8878 - val_loss: 855681.8125 - val_accuracy: 0.8828\n"
     ]
    }
   ],
   "source": [
    "# Define the image generators for the training and validation set\n",
    "\n",
    "batch_size = 32\n",
    "num_classes = 38\n",
    "\n",
    "train_datagen = ImageDataGenerator(rescale=1./255)\n",
    "validation_datagen = ImageDataGenerator(rescale=1./255)\n",
    "\n",
    "train_generator = train_datagen.flow_from_directory(\n",
    "    train_path,\n",
    "    target_size=(256, 256),\n",
    "    batch_size=32,\n",
    "    class_mode='categorical',\n",
    "    shuffle=True)  # randomize the order of the samples to avoid overfitting\n",
    "\n",
    "validation_generator = validation_datagen.flow_from_directory(\n",
    "    valid_path,\n",
    "    target_size=(256, 256),\n",
    "    batch_size=32,\n",
    "    class_mode='categorical',\n",
    "    shuffle=True)  # randomize the order of the samples to avoid overfitting\n",
    "\n",
    "# Define the CNN model which adapts the architecture of a LeNet model\n",
    "\n",
    "model_lenet = Sequential([\n",
    "    Conv2D(32, (5, 5), activation='relu', input_shape=(256, 256, 3)),\n",
    "    MaxPooling2D(pool_size=(2, 2)),\n",
    "    Conv2D(64, (5, 5), activation='relu'),\n",
    "    MaxPooling2D(pool_size=(2, 2)),\n",
    "    Conv2D(128, (3, 3), activation='relu'),\n",
    "    MaxPooling2D(pool_size=(2, 2)),\n",
    "    Flatten(),\n",
    "    Dense(512, activation='relu'),\n",
    "    Dropout(0.5),\n",
    "    Dense(num_classes, activation='softmax')\n",
    "])\n",
    "\n",
    "model_lenet.compile(optimizer='adam', loss='categorical_crossentropy', metrics=['accuracy'])\n",
    "\n",
    "# Training the model on my GPU cores\n",
    "\n",
    "with tf.device('/device:GPU:0'):\n",
    "    model_lenet.fit(train_generator,\n",
    "            steps_per_epoch=train_generator.samples // batch_size,\n",
    "            epochs=20,\n",
    "            validation_data=validation_generator,\n",
    "            validation_steps=validation_generator.samples // batch_size)"
   ]
  },
  {
   "cell_type": "code",
   "execution_count": 10,
   "metadata": {},
   "outputs": [
    {
     "data": {
      "image/png": "[encoded data removed]",
      "text/plain": [
       "<Figure size 800x600 with 1 Axes>"
      ]
     },
     "metadata": {},
     "output_type": "display_data"
    }
   ],
   "source": [
    "# I forgot to save the history of the fitting process in a history object\n",
    "# I will manually copy&paste the training and validation accuracy from the verbose output above\n",
    "\n",
    "train_acc = [0.5221, 0.6467, 0.7388, 0.7788, 0.8144, 0.8275, 0.8406, 0.8519, 0.8604, 0.8638, 0.8715, 0.8736, 0.8794, 0.8790, 0.8809, 0.8844, 0.8847, 0.8885, 0.8877, 0.8878]\n",
    "val_acc = [0.6523, 0.7595, 0.8148, 0.8439, 0.8692, 0.8682, 0.8371, 0.8881, 0.8737, 0.8896, 0.8818, 0.8907, 0.8972, 0.8801, 0.8680, 0.8913, 0.8834, 0.8949, 0.8944, 0.8828]\n",
    "\n",
    "plt.figure(figsize=(8, 6))\n",
    "plt.plot(np.arange(20), train_acc, c=\"g\", label=\"training\")\n",
    "plt.plot(np.arange(20), val_acc, c=\"r\", label=\"validation\")\n",
    "plt.xlabel(\"Epochs\")\n",
    "plt.ylabel(\"Accuracy\")\n",
    "plt.title(\"LeNet with shuffled image batches\")\n",
    "plt.legend()\n",
    "plt.show()"
   ]
  },
  {
   "cell_type": "code",
   "execution_count": 12,
   "metadata": {},
   "outputs": [
    {
     "name": "stderr",
     "output_type": "stream",
     "text": [
      "/Users/yannik/anaconda3/envs/keras_env/lib/python3.8/site-packages/keras/src/engine/training.py:3000: UserWarning: You are saving your model as an HDF5 file via `model.save()`. This file format is considered legacy. We recommend using instead the native Keras format, e.g. `model.save('my_model.keras')`.\n",
      "  saving_api.save_model(\n"
     ]
    }
   ],
   "source": [
    "model_lenet.save(\"lenet_model_shuffled_batches.h5\")"
   ]
  },
  {
   "cell_type": "code",
   "execution_count": null,
   "metadata": {},
   "outputs": [],
   "source": []
  }
 ],
 "metadata": {
  "kernelspec": {
   "display_name": "keras_env",
   "language": "python",
   "name": "python3"
  },
  "language_info": {
   "codemirror_mode": {
    "name": "ipython",
    "version": 3
   },
   "file_extension": ".py",
   "mimetype": "text/x-python",
   "name": "python",
   "nbconvert_exporter": "python",
   "pygments_lexer": "ipython3",
   "version": "3.8.13"
  }
 },
 "nbformat": 4,
 "nbformat_minor": 2
}
